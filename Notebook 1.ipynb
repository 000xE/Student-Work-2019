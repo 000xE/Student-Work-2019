{
 "cells": [
  {
   "cell_type": "markdown",
   "metadata": {},
   "source": [
    "<img src=\"/static/base/images/logo.png?v=641991992878ee24c6f3826e81054a0f\" alt=\"Jupyter Notebook\">\n",
    "<h1 style=\"text-align: center\">Notebook 1 - Introduction to Jupyter</h1>"
   ]
  },
  {
   "cell_type": "markdown",
   "metadata": {},
   "source": [
    "<h3>Explanation of Notebook 1</h3>\n",
    "\n",
    "Throughout this notebook, you will see blocks of code, usually separated, these are called <b>cells</b>, more on this is explained later. <br>\n",
    "As an introduction, this notebook will go through the key basics of Jupyter notebooks and the use/implementation of Python and R code, some of the cells will assume that you are somewhat experienced in both programming languages as you are expected to understand how it works as it is simply an introduction to Jupyter."
   ]
  },
  {
   "cell_type": "markdown",
   "metadata": {},
   "source": [
    "<h3>Explanation of cells</h3>\n",
    "\n",
    "Cells are a way of inputting code, or simply text like in this one; a great use of cells in coding in this notebook is that you can choose which cells you want to run instead of running the program as a whole or cutting things out.\n",
    "\n",
    "This cell is set to the type <i>\"Markdown\"</i>, meaning that you are able to use HTML elements in this cell,\n",
    "as an example, here's <b>bold text</b>. You can change this anytime by clicking on a cell and changing it from the drop down menu on the toolbar.\n",
    "\n",
    "- Markdown cells are commonly used to annotate blocks of code and often helps you understand the key parts.\n",
    "- Code cells on the other hand are solely just for coding, therefore markdown will not work in code, and vice versa.\n",
    "\n",
    "<!--Here's a comment in HTML-->\n",
    "\n",
    "To begin, you could add your own cell, you could do this by:\n",
    "- Using the tool bar (Cell > Insert Cell Below/After) </li>\n",
    "\n",
    "To preview the outcome of any edits in any cell, you need to run it, which you must do by either:\n",
    "- Using the tool bar (Cell > Run Cells)\n",
    "- Pressing <b>Ctrl + Enter</b> at the same time.\n",
    "- Pressing the run button <i class=\"fa-step-forward fa\"></i>\n",
    "\n",
    "\n",
    "Alternatively, you can run AND insert a cell below by either:\n",
    "- Using the tool bar (Cell > Run Cells and Insert Below)\n",
    "- Pressing <b>Alt + Enter</b> at the same time.\n",
    "\n",
    "There are many more tricks you could discover by exploring the toolbar and also shortcuts you could use which can be viewed by pressing on the command pallete (<i class=\"fa-keyboard-o fa\"></i>).\n",
    "\n",
    "When you are editing a cell (Edit Mode), it will outline the cell in <b style=\"color: #66BB6A;\">green </b> with a pen indicator at the top right, otherwise (Command Mode) it will be outlined <b style=\"color: #42A5F5;\">blue</b> instead, this is so that you are aware of the current state.\n",
    "\n",
    "When you are in Command Mode, you could press <b>'x'</b> on your keyboard to delete the selected cell."
   ]
  },
  {
   "cell_type": "markdown",
   "metadata": {},
   "source": [
    "<h3>Explanation of the kernel</h3>\n",
    "    \n",
    "To run any code, you need a kernel, it also keeps the running as well, but usually there's different kernals for different programming languages, however, the only thing you need to know is that it can help you manage your notebook, like for an example, you can restart the kernel to clear all inputs and outputs of the notebook or stop the kernel completely to stop all the code, etc.\n",
    "\n",
    "The kernel can be managed by:\n",
    "- Using the tool bar (Kernel > Interrupt/Restart/Clear Output/Run All/Reconnect/Shutdown)\n",
    "\n",
    "The most important part of the kernel is that you can use it to switch to a different programming language in the same notebook; since we are currently running Python, we are using the Python kernel, which means we cannot use any other programming language right now.\n",
    "\n",
    "However, if you've installed other kernels (As an example for R), you can switch them by:\n",
    "- Using the tool bar (Kernel > Change Kernel)\n",
    "\n",
    "The currently using kernel is shown at the top using its respective icon.\n",
    "\n",
    "For this notebook, we are using Python and R, and so you must have both kernels installed in order for the entire notebook to work.\n",
    "\n",
    "<i>Switching to Python kernel will make the Python code work, but not the R code, and vice versa.</i>"
   ]
  },
  {
   "cell_type": "markdown",
   "metadata": {},
   "source": [
    "<h3>Python code<img class=\"current_kernel_logo\" alt=\"Current Kernel Logo\" src=\"/kernelspecs/python3/logo-64x64.png\" title=\"Python 3\" style=\"display: inline;\"></h3> \n",
    "\n",
    "Since we are currently on the Python kernel the cell below this shows Python 3 code in use; for this example, I've simply shown a block of code of addition to demonstrate how this notebook can be used.\n",
    "\n",
    "Try running the cell below using a shortcut to see the output."
   ]
  },
  {
   "cell_type": "code",
   "execution_count": 10,
   "metadata": {
    "scrolled": false
   },
   "outputs": [
    {
     "data": {
      "text/plain": [
       "7"
      ]
     },
     "execution_count": 10,
     "metadata": {},
     "output_type": "execute_result"
    }
   ],
   "source": [
    "x = 3\n",
    "y = 4\n",
    "\n",
    "z = 3+4\n",
    "\n",
    "z\n",
    "\n",
    "\n",
    "#Try running the following HTML code uncommented afterwards:\n",
    "#<b>HTML</b>"
   ]
  },
  {
   "cell_type": "markdown",
   "metadata": {},
   "source": [
    "This cell runs Python code instead of HTML, this is because it is set to <i>\"Code\"</i>, this means that using HTML in the above cell would return syntax errors based on the current kernel (Python in this case).\n",
    "\n",
    "Furthermore, notice how the above code prints out the result of the calculation even without the use of the <a style=\"color: #008000\">print</a> function in python.<br>\n",
    "This is another perk of Jupyter; simply by typing the variable name (In this case 'z'), it would display the value of it.\n",
    "\n",
    "However, this only works on the last line, which is why it's often convenient in small separated cells rather than massive blocks of code."
   ]
  },
  {
   "cell_type": "markdown",
   "metadata": {},
   "source": [
    "<h3>Bigger Python example</h3>\n",
    "\n",
    "In this example, we will exploring about more uses of Jupyter using Python.\n",
    "This time, we will take use of the package '' "
   ]
  },
  {
   "cell_type": "code",
   "execution_count": null,
   "metadata": {},
   "outputs": [],
   "source": []
  },
  {
   "cell_type": "markdown",
   "metadata": {},
   "source": [
    "<h3>R code<img class=\"current_kernel_logo\" alt=\"Current Kernel Logo\" src=\"/kernelspecs/python3/logo-64x64.png\" title=\"Python 3\" style=\"display: inline;\"></h3> \n",
    "\n",
    "As mentioned, we are currently on the Python kernel, you would need to switch to the R kernel to run the following examples, only after doing so would you be able to run the following code."
   ]
  },
  {
   "cell_type": "code",
   "execution_count": null,
   "metadata": {},
   "outputs": [],
   "source": []
  }
 ],
 "metadata": {
  "kernelspec": {
   "display_name": "Python 3",
   "language": "python",
   "name": "python3"
  },
  "language_info": {
   "codemirror_mode": {
    "name": "ipython",
    "version": 3
   },
   "file_extension": ".py",
   "mimetype": "text/x-python",
   "name": "python",
   "nbconvert_exporter": "python",
   "pygments_lexer": "ipython3",
   "version": "3.7.3"
  }
 },
 "nbformat": 4,
 "nbformat_minor": 2
}
