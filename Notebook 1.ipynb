{
 "cells": [
  {
   "cell_type": "markdown",
   "metadata": {},
   "source": [
    "<img src=\"/static/base/images/logo.png?v=641991992878ee24c6f3826e81054a0f\" alt=\"Jupyter Notebook\">\n",
    "<h1 style=\"text-align: center\">Notebook 1 - Introduction to Jupyter</h1>"
   ]
  },
  {
   "cell_type": "markdown",
   "metadata": {},
   "source": [
    "<h2>Explanation of cells</h2>\n",
    "\n",
    "Cells are a way of inputting code, or simply text like in this one; a great use of cells in coding in this notebook is that you can choose which cells you want to run instead of running the program as a whole or cutting things out.\n",
    "\n",
    "This cell is set to the type <i>\"Markdown\"</i>, meaning that you are able to use HTML elements in this cell,\n",
    "as an example, here's <b>bold text</b>.\n",
    "\n",
    "Markdown cells are commonly used to annotate blocks of code and often helps you understand the key parts.\n",
    "\n",
    "<!--Here's a comment in HTML-->\n",
    "\n",
    "To preview the outcome of any edits in any cell, you need to run it, which you must do by either:\n",
    "<li> Using the tool bar (Cell > Run Cells) </li>\n",
    "<li> Pressing <b>Ctrl + Enter</b> at the same time.</li>\n",
    "<li> Pressing the run button <i class=\"fa-step-forward fa\"></i></li>\n",
    "\n",
    "\n",
    "\n",
    "There are more shortcuts you could use which can be viewed by pressing on the command pallete (<i class=\"fa-keyboard-o fa\"></i>)"
   ]
  },
  {
   "cell_type": "markdown",
   "metadata": {},
   "source": [
    "<i class=\"fa-keyboard-o fa\"></i>"
   ]
  },
  {
   "cell_type": "code",
   "execution_count": 16,
   "metadata": {},
   "outputs": [],
   "source": [
    "#To use both Python and R in the same notebook after installing 'rpy2', environmental variables must be set for 'R_HOME' and 'R_USER' after installation of R\n",
    "#Method 1\n",
    "\n",
    "#import os\n",
    "#os.environ['R_HOME'] = 'R_HOME=D:\\Program Files\\R\\R-3.6.0'\n",
    "#os.environ['R_USER'] = 'D:\\Program Files (x86)\\Python37-32\\Lib\\site-packages\\rpy2'"
   ]
  },
  {
   "cell_type": "code",
   "execution_count": 15,
   "metadata": {},
   "outputs": [
    {
     "name": "stdout",
     "output_type": "stream",
     "text": [
      "env: R_HOME=D:\\Program Files\\R\\R-3.6.0\n",
      "env: R_USER=D:\\Program Files (x86)\\Python37-32\\Lib\\site-packages\\rpy2\n",
      "The rpy2.ipython extension is already loaded. To reload it, use:\n",
      "  %reload_ext rpy2.ipython\n"
     ]
    }
   ],
   "source": [
    "#Method 2\n",
    "\n",
    "%env R_HOME=D:\\Program Files\\R\\R-3.6.0\n",
    "%env R_USER=D:\\Program Files (x86)\\Python37-32\\Lib\\site-packages\\rpy2\n",
    "    \n",
    "#Loading 'rpy2'\n",
    "\n",
    "%load_ext rpy2.ipython"
   ]
  },
  {
   "cell_type": "markdown",
   "metadata": {},
   "source": []
  },
  {
   "cell_type": "code",
   "execution_count": null,
   "metadata": {},
   "outputs": [],
   "source": []
  }
 ],
 "metadata": {
  "kernelspec": {
   "display_name": "Python 3",
   "language": "python",
   "name": "python3"
  },
  "language_info": {
   "codemirror_mode": {
    "name": "ipython",
    "version": 3
   },
   "file_extension": ".py",
   "mimetype": "text/x-python",
   "name": "python",
   "nbconvert_exporter": "python",
   "pygments_lexer": "ipython3",
   "version": "3.7.3"
  }
 },
 "nbformat": 4,
 "nbformat_minor": 2
}
