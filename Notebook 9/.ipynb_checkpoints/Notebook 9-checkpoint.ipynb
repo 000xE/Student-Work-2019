{
 "cells": [
  {
   "cell_type": "markdown",
   "metadata": {},
   "source": [
    "<img src=\"/static/base/images/logo.png?v=641991992878ee24c6f3826e81054a0f\" alt=\"Jupyter Notebook\">\n",
    "<h1 style=\"text-align: center\">Notebook 9 - Blockchain</h1>"
   ]
  },
  {
   "cell_type": "markdown",
   "metadata": {},
   "source": [
    "<h3>Prerequisites</h3>\n",
    "\n",
    "- You must have Python 3 installed on your system (<a href=\"https://www.python.org/downloads/\">Download</a>)\n",
    "- You must have Jupyter installed on your system (<a href=\"https://jupyter.org/install\">Download</a>)\n",
    "- You must have the Flask framework installed on your system (<a href=\"https://pypi.org/project/Flask/\">Download</a>)\n",
    "- Some knowledge of Python may be required"
   ]
  },
  {
   "cell_type": "markdown",
   "metadata": {},
   "source": [
    "<h3>Explanation of Notebook 9</h3>\n",
    "\n",
    "In this notebook, you will build a more complex agent model that explores the competition between social and engineering attack vectors. This model will have AttackML and DefenceML agents that need access to user data from which to analyse weaknesses (to attack or defend)."
   ]
  },
  {
   "cell_type": "markdown",
   "metadata": {},
   "source": [
    "<h3>Getting started</h3>\n",
    "\n",
    "In addition to Flask, you will be using another library known as \"Requests\".<br>\n",
    "You can do this using pip in Command Prompt (Windows), or the Terminal (MacOS/Linux):<br>\n",
    "<code>pip install -U Flask</code>"
   ]
  }
 ],
 "metadata": {
  "kernelspec": {
   "display_name": "Python 3",
   "language": "python",
   "name": "python3"
  },
  "language_info": {
   "codemirror_mode": {
    "name": "ipython",
    "version": 3
   },
   "file_extension": ".py",
   "mimetype": "text/x-python",
   "name": "python",
   "nbconvert_exporter": "python",
   "pygments_lexer": "ipython3",
   "version": "3.7.3"
  }
 },
 "nbformat": 4,
 "nbformat_minor": 4
}
