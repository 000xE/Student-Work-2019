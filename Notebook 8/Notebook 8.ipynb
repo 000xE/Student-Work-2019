{
 "cells": [
  {
   "cell_type": "markdown",
   "metadata": {},
   "source": [
    "<img src=\"/static/base/images/logo.png?v=641991992878ee24c6f3826e81054a0f\" alt=\"Jupyter Notebook\">\n",
    "<h1 style=\"text-align: center\">Notebook 8 - SQL Lab</h1>"
   ]
  },
  {
   "cell_type": "markdown",
   "metadata": {},
   "source": [
    "<h3>Prerequisites</h3>\n",
    "\n",
    "- You must have Python 3 installed on your system (<a href=\"https://www.python.org/downloads/\">Download</a>)\n",
    "- You must have Jupyter installed on your system (<a href=\"https://jupyter.org/install\">Download</a>)\n",
    "- Some knowledge of Python may be required"
   ]
  },
  {
   "cell_type": "markdown",
   "metadata": {},
   "source": [
    "<h3>Explanation of Notebook 8</h3>\n",
    "\n",
    "This notebook will involve applying knowledge gained from the previous SQL labs by making a web application that contains a database using Flask and SQLite.\n",
    "\n",
    "+ SQLite3 is a module included in Python (2.5+), SQLite is an embedded relational database engine, and this module is used to create a database that's stored in a single disk file, meaning that you do not have to create a server to access it.<br>\n",
    "+ Flask on the other hand is a framework that allows you to work with SQLite3 module to make a CRUD (create, retrieve, update, delete) application."
   ]
  },
  {
   "cell_type": "markdown",
   "metadata": {},
   "source": [
    "<h3>Getting started</h3>\n",
    "\n",
    "As mentioned above, \"SQLite3\" will be preinstalled with Python (2.5+), however, you'll need to install \"Flask\" and \"reqests\" manually. <br>\n",
    "You can do this using pip in Command Prompt (Windows), or the Terminal (MacOS/Linux):<br>\n",
    "<code>pip install Flask</code><br>\n",
    "<code>pip install requests</code>\n",
    "\n",
    "After doing so, you may proceed with the notebook."
   ]
  },
  {
   "cell_type": "markdown",
   "metadata": {},
   "source": [
    "<h3>Scenario</h3>\n",
    "\n",
    "You are a software developer and was given the task to build a stock control system for a store that will involve customers that can create orders by selecting items, and this will involve creating four tables:\n",
    "\n",
    "- Customer table\n",
    "\n",
    "<code>Customer_ID</code><br>\n",
    "<code>Customer_Name</code><br>\n",
    "\n",
    "- Order table\n",
    "\n",
    "<code>Order_ID</code><br>\n",
    "<code>Customer_ID</code><br>\n",
    "<code>Order_Date</code><br>\n",
    "<code>Total</code><br>\n",
    "\n",
    "- Suborder table\n",
    "\n",
    "<code>Order_ID</code><br>\n",
    "<code>Product_ID</code><br>\n",
    "<code>Quantity</code><br>\n",
    "<code>Subtotal</code><br>\n",
    "\n",
    "- Product table\n",
    "\n",
    "<code>Product_ID</code><br>\n",
    "<code>Product_Name</code><br>\n",
    "<code>Product_Description</code><br>\n",
    "<code>Price</code><br>\n",
    "\n",
    "These tables communicate with each other using primary and foreign keys, add the tag \"(PK)\" for primary keys and \"(FK)\" for foreign keys in each tables.\n",
    "\n",
    "<b>Double click for the solution</b>\n",
    "<!--\n",
    "- Customer table\n",
    "\n",
    "<code>Customer_ID (PK)</code><br>\n",
    "<code>Customer_Name</code><br>\n",
    "\n",
    "- Order table\n",
    "\n",
    "<code>Order_ID (PK)</code><br>\n",
    "<code>Customer_ID (FK)</code><br>\n",
    "<code>Order_Date</code><br>\n",
    "<code>Total</code><br>\n",
    "\n",
    "- Suborder table\n",
    "\n",
    "<code>Order_ID (FK)</code><br>\n",
    "<code>Product_ID (FK)</code><br>\n",
    "<code>Quantity</code><br>\n",
    "<code>Subtotal</code><br>\n",
    "\n",
    "- Product table\n",
    "\n",
    "<code>Product_ID (PK)</code><br>\n",
    "<code>Product_Name</code><br>\n",
    "<code>Product_Description</code><br>\n",
    "<code>Price</code><br>\n",
    "-->\n",
    "\n",
    "It is important to know that primary keys are uniquely identified with integers which autoincrement upon new rows, so be sure to choose the correct data types when creating the table."
   ]
  },
  {
   "cell_type": "markdown",
   "metadata": {},
   "source": [
    "<h3>Identifying relationships</h3>\n",
    "\n",
    "As forementioned, these tables will need to communicate each other using their keys, and so after you've chosen the keys, what will their relationship types be?\n",
    "\n",
    "Remember, these tables considered as \"entities\", ande there are three types of relationships:\n",
    "+ A one-to-one relationship is when an entity can only have one instance of another, like e.g one person entity can only have one car entity\n",
    "+ A one-to-many would mean one person entity can have many car entities,\n",
    "+ If it's many-to-many (uncommon), it means many person entities can have many car entities but that isn't practical in most cases so a third entity is required where in this case we could say the third entity is the car and a new supplier entity is added where both the person and the supplier has a one-to-many relationship with the car entity meaning a supplier can have many cars and the person can have many cars. \n",
    "\n",
    "In our case, a customer can have many orders (although many orders must only have one customer), an order can have many sub orders (but a sub order can only have one order), a sub order must only have one product (yet a product can have many suborders).\n",
    "\n",
    "There's also the relationship degree, which is the number of participating entities in a relationship:\n",
    "- Binary - Two entities involved\n",
    "- Ternary - Three entities involved\n",
    "- Quarternary - Four entities involved\n",
    "- N-ary - More than four entities involved\n",
    "\n",
    "Customer table (Binary):\n",
    "- Customer_ID to Customer_ID (Order table)\n",
    "\n",
    "Order table (Ternary):\n",
    "- Customer_ID to Customer_ID (Customer table)\n",
    "- Order_ID to Order_ID (Orderline table)\n",
    "\n",
    "Suborder table (Tenary):\n",
    "- Order_ID to Order_ID (Orderline table)\n",
    "- Product_ID to Product_ID (Orderline table)\n",
    "\n",
    "Producer table (Binary):\n",
    "- Product_ID to Product_ID (Suborder table)"
   ]
  },
  {
   "cell_type": "markdown",
   "metadata": {},
   "source": [
    "<h3>Creating the database</h3>"
   ]
  },
  {
   "cell_type": "code",
   "execution_count": 1,
   "metadata": {},
   "outputs": [],
   "source": [
    "import sqlite3\n",
    "\n",
    "DB = sqlite3.connect(\"data/database.db\")\n",
    "c = DB.cursor()"
   ]
  },
  {
   "cell_type": "code",
   "execution_count": null,
   "metadata": {},
   "outputs": [],
   "source": [
    "def create_table():\n",
    "    c.execute(\"CREATE TABLE IF NOT EXISTS stockTable(id INTEGER PRIMARY KEY AUTOINCREMENT, asset TEXT, order_date TEXT, amount INTEGER, price REAL)\")\n",
    "    print(\"Table created\") #To ensure it worked\n",
    "    c.close()"
   ]
  },
  {
   "cell_type": "markdown",
   "metadata": {},
   "source": [
    "In the same function, how coud you create the other 3 tables?"
   ]
  }
 ],
 "metadata": {
  "kernelspec": {
   "display_name": "Python 3",
   "language": "python",
   "name": "python3"
  },
  "language_info": {
   "codemirror_mode": {
    "name": "ipython",
    "version": 3
   },
   "file_extension": ".py",
   "mimetype": "text/x-python",
   "name": "python",
   "nbconvert_exporter": "python",
   "pygments_lexer": "ipython3",
   "version": "3.7.3"
  }
 },
 "nbformat": 4,
 "nbformat_minor": 4
}
