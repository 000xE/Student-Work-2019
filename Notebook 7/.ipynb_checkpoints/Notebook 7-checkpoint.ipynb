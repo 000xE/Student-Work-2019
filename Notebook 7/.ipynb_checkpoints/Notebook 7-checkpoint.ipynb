{
 "cells": [
  {
   "cell_type": "markdown",
   "metadata": {},
   "source": [
    "<img src=\"/static/base/images/logo.png?v=641991992878ee24c6f3826e81054a0f\" alt=\"Jupyter Notebook\">\n",
    "<h1 style=\"text-align: center\">Notebook 7 - Python Flask</h1>"
   ]
  },
  {
   "cell_type": "markdown",
   "metadata": {},
   "source": [
    "<h3>Prerequisites</h3>\n",
    "\n",
    "- You must have Python 3 installed on your system (<a href=\"https://www.python.org/downloads/\">Download</a>)\n",
    "- You must have Jupyter installed on your system (<a href=\"https://jupyter.org/install\">Download</a>)\n",
    "- Some knowledge of Python may be required"
   ]
  },
  {
   "cell_type": "markdown",
   "metadata": {},
   "source": [
    "<h3>Explanation of Notebook 7</h3>\n",
    "\n",
    "This notebook will involve building services that interact with a database; you will create a simple table using SQLite3 for entering requests in Bitcoin, and you'll develop methods for this table to create, retrieve, update and delete rows using the Flask framework.\n",
    "\n",
    "These table will include the properties: asset, order_date, amount, and price.\n",
    "\n",
    "SQLite3 is a module included in Python (2.5+), SQLite is an embedded relational database engine, and this module is used to create a database that's stored in a single disk file.<br>\n",
    "Flask on the other hand is a framework that allows you to work with SQLite3 module to make a CRUD (create, retrieve, update, delete) application."
   ]
  },
  {
   "cell_type": "markdown",
   "metadata": {},
   "source": [
    "<h3>Getting started</h3>\n",
    "\n",
    "As mentioned above, SQLite3 will be preinstalled with Python (2.5+), however, you'll need to install Flask manually. <br>\n",
    "You can do this using pip in Command Prompt (Windows), or the Terminal (MacOS/Linux):<br>\n",
    "<code>pip install requests</code>\n",
    "\n",
    "After doing so, you may proceed with the notebook."
   ]
  },
  {
   "cell_type": "code",
   "execution_count": 5,
   "metadata": {},
   "outputs": [],
   "source": [
    "import sqlite3"
   ]
  }
 ],
 "metadata": {
  "kernelspec": {
   "display_name": "Python 3",
   "language": "python",
   "name": "python3"
  },
  "language_info": {
   "codemirror_mode": {
    "name": "ipython",
    "version": 3
   },
   "file_extension": ".py",
   "mimetype": "text/x-python",
   "name": "python",
   "nbconvert_exporter": "python",
   "pygments_lexer": "ipython3",
   "version": "3.7.3"
  }
 },
 "nbformat": 4,
 "nbformat_minor": 4
}
