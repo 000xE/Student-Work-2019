{
 "cells": [
  {
   "cell_type": "markdown",
   "metadata": {},
   "source": [
    "<img src=\"/static/base/images/logo.png?v=641991992878ee24c6f3826e81054a0f\" alt=\"Jupyter Notebook\">\n",
    "<h1 style=\"text-align: center\">Notebook 4 - Analysis of ACLED data set</h1>"
   ]
  },
  {
   "cell_type": "markdown",
   "metadata": {},
   "source": [
    "<h3>Prerequisites</h3>\n",
    "\n",
    "- You must have Python 3 installed on your system (<a href=\"https://www.python.org/downloads/\">Download</a>)\n",
    "- You must have Jupyter installed on your system (<a href=\"https://jupyter.org/install\">Download</a>)\n",
    "- You must have the matplotlib librarty installed on your system (<a href=\"https://matplotlib.org/users/installing.html\">Download</a>)\n",
    "- Some knowledge of Python may be required"
   ]
  },
  {
   "cell_type": "markdown",
   "metadata": {},
   "source": [
    "<h3>Explanation of Notebook 4</h3>\n",
    "\n",
    "In this notebook, you wil carry out a number of analysis on an ACLED (Armed Conflict Location and Event Data Project) data set. (<a href=<br>\n",
    "This analysis can be done by either Python or R, or both, however for this, we will use Python since it is easier.\n",
    "\n",
    "You will have the data of four continents; Africa, Asia, Europe, and Middle East.<br>\n",
    "They are all updated as of 6th of July, 2019.\n",
    "\n",
    "The data was initially in xlsx (Excel) format but was converted to csv format.\n",
    "\n",
    "The analysis must carry out with charts showing the following:\n",
    "+ Conflicts per country over time\n",
    "+ Typical lengths of conflict in a country or across the continent\n",
    "+ Correlations weather data (mean temperature and rainfall)\n",
    "\n",
    "You can analyse all four continents, starting from Africa; once one of the continents is analysed, the rest will be very similar."
   ]
  },
  {
   "cell_type": "markdown",
   "metadata": {},
   "source": [
    "<h3>Getting Started</h3>\n",
    "\n",
    "We must first make sure that the kernel is set to Python as only then will the Python code run.\n",
    "\n",
    "After the kernel is set to Python, try run the following cell."
   ]
  },
  {
   "cell_type": "code",
   "execution_count": 19,
   "metadata": {},
   "outputs": [],
   "source": [
    "import csv #Import the csv package\n",
    "\n",
    "with open('data/Africa_1997-2019_Jul06.csv', 'r') as csv_file: #Open the csv file and assign it to a variable ('csv_file')\n",
    "    csv_reader = csv.reader(csv_file) #Read the file using the .reader function of csv package to 'csv_reader'\n",
    "        \n",
    "    csvList = list(csv_reader) #Convert to a list\n",
    "    csvList.remove(csvList[0]) #This is used to remove the headers to reduce issues with parsing"
   ]
  },
  {
   "cell_type": "markdown",
   "metadata": {},
   "source": [
    "This will import the African continent's ACLED data and convert it to a list which we can now use to analyse.\n",
    "\n",
    "You can access each row using its index, but using that index, you can also access each attribute/column by their indexes as well; an example is shown below."
   ]
  },
  {
   "cell_type": "code",
   "execution_count": null,
   "metadata": {},
   "outputs": [],
   "source": [
    "csvList[0][3]"
   ]
  },
  {
   "cell_type": "markdown",
   "metadata": {},
   "source": [
    "This should print out \"01-January-1997\", because it is the value of the fourth column on the first row, meaning that this is the event date for the first event.\n",
    "\n",
    "The first task is to view the conflicts per country in the continent over time; if you look at the csv file manually, you'd see that the countries are in the 17th column (<code>COUNTRY</code>), meaning that it is the 16th index, and since it has to be over a period of time, we will also get the year column (<code>YEAR</code>) which is the 5th column, making it index 4. This will involve another thing; the conflicts, but for this we won't require the type of conflict, we simply want the number of conflicts.\n",
    "\n",
    "+ <code>COUNTRY</code> - Index 16\n",
    "+ <code>YEAR</code> - Index 4\n",
    "\n",
    "The best way to visualise this is to have a line graph for each respective country with their conflicts over the years,\n",
    "and to do this, there's two things we must do; gather all countries as well as the number of conflicts for each year.\n",
    "\n",
    "This will require a lot of thinking and effort and so it is easy to get lost, and so all of it is completed in the cell below."
   ]
  },
  {
   "cell_type": "code",
   "execution_count": 22,
   "metadata": {},
   "outputs": [],
   "source": [
    "import matplotlib.pyplot as plt\n",
    "\n",
    "def conflictYears():\n",
    "    years = [] #To store the years\n",
    "    counts = [] #To store the conflict count\n",
    "    countries = [] #To store all countries\n",
    "\n",
    "    count = 0 #Initial counter\n",
    "\n",
    "    everything = {} #To store everything together\n",
    "\n",
    "    for i, row in enumerate(csvList): #Enumerate through the list (Enables you to use index easily)\n",
    "        country = row[16] #Store the country\n",
    "        year = row[4] #Store the year\n",
    "\n",
    "        if ((country in countries) == False): #If the country isn't previously entered\n",
    "            countries.append(country) #Add the country to the list\n",
    "            years = [] #Empty the years to reset to not clash with previous country\n",
    "            counts = [] #Empty the counts to reset to not clash with previous country\n",
    "\n",
    "        else: #If the country is entered (To allow multiple conflicts to be added)\n",
    "            if ((year in years) == False): #If the year isn't added\n",
    "                years.append(year) #Add the year\n",
    "\n",
    "                if (count > 0): #If the count is above 0 (Done to prevent adding a 0 for the first element)\n",
    "                    counts.append(count) #Add the current count (This is attached to the previous year)\n",
    "                count = 0 #Reset the count to use for the next or the currently added year\n",
    "                count += 1 #Increment the count (First row of the year)\n",
    "\n",
    "            else: #If the year is added\n",
    "                count += 1 #Increment the count (Second row and onwards of the year)\n",
    "                if (i+1 == len(csvList)): #If it's the last row of the list (To prevent it not adding the final year)\n",
    "                    counts.append(count) #Add the count of the current year\n",
    "\n",
    "        dictionary = dict(zip(years, counts)) #Make a dictionary with both the years and counts for the current country\n",
    "        everything[country] = dictionary #Set the dictionary as the value for the country"
   ]
  },
  {
   "cell_type": "markdown",
   "metadata": {},
   "source": [
    "The above cell will store each country with an attached list of years which has a counter for the amount of conflicts.<br>\n",
    "Now we can finally make the graph to see this visualised."
   ]
  },
  {
   "cell_type": "code",
   "execution_count": 24,
   "metadata": {},
   "outputs": [
    {
     "data": {
      "text/plain": [
       "Text(0.5, 1.0, 'Conflict for country [Algeria] for all years')"
      ]
     },
     "execution_count": 24,
     "metadata": {},
     "output_type": "execute_result"
    },
    {
     "data": {
      "image/png": "[encoded data removed]",
      "text/plain": [
       "<Figure size 1440x360 with 1 Axes>"
      ]
     },
     "metadata": {
      "needs_background": "light"
     },
     "output_type": "display_data"
    }
   ],
   "source": [
    "plt.figure(figsize=(20,5)) #Change the size of the chart to fit everything\n",
    "\n",
    "#Change this to any country in Africa to see the results for each year    \n",
    "country = \"Algeria\"\n",
    "\n",
    "#Convert both to a list since dictionaries don't work with plots\n",
    "plt.plot((list(everything[country].keys())), (list(everything[country].values()))) \n",
    "\n",
    "#Set the labels\n",
    "plt.ylabel('Conflict count')\n",
    "plt.title('Conflict for country ['+ country +'] for all years')"
   ]
  },
  {
   "cell_type": "markdown",
   "metadata": {},
   "source": [
    "Running the above cell will generate a well constructed chart for displaying the conflict count throughout the years; one thing to note is that it may not show the latest year in some countries due to lack of data.\n",
    "\n",
    "Try attempt this but on the Europe data set (\"data/Europe_2018-2019_Jul06.csv\") on the following cell.<br>\n",
    "Please ensure it is also under the function named \"conflictYears2\" to avoid clashing."
   ]
  },
  {
   "cell_type": "code",
   "execution_count": null,
   "metadata": {},
   "outputs": [],
   "source": []
  },
  {
   "cell_type": "markdown",
   "metadata": {},
   "source": [
    "<b>Double click for the solution</b>\n",
    "\n",
    "<!--\n",
    "import matplotlib.pyplot as plt\n",
    "\n",
    "def conflictYears():\n",
    "    years = [] #To store the years\n",
    "    counts = [] #To store the conflict count\n",
    "    countries = [] #To store all countries\n",
    "\n",
    "    count = 0 #Initial counter\n",
    "\n",
    "    everything = {} #To store everything together\n",
    "\n",
    "    for i, row in enumerate(csvList): #Enumerate through the list (Enables you to use index easily)\n",
    "        country = row[16] #Store the country\n",
    "        year = row[4] #Store the year\n",
    "\n",
    "        if ((country in countries) == False): #If the country isn't previously entered\n",
    "            countries.append(country) #Add the country to the list\n",
    "            years = [] #Empty the years to reset to not clash with previous country\n",
    "            counts = [] #Empty the counts to reset to not clash with previous country\n",
    "\n",
    "        else: #If the country is entered (To allow multiple conflicts to be added)\n",
    "            if ((year in years) == False): #If the year isn't added\n",
    "                years.append(year) #Add the year\n",
    "\n",
    "                if (count > 0): #If the count is above 0 (Done to prevent adding a 0 for the first element)\n",
    "                    counts.append(count) #Add the current count (This is attached to the previous year)\n",
    "                count = 0 #Reset the count to use for the next or the currently added year\n",
    "                count += 1 #Increment the count (First row of the year)\n",
    "\n",
    "            else: #If the year is added\n",
    "                count += 1 #Increment the count (Second row and onwards of the year)\n",
    "                if (i+1 == len(csvList)): #If it's the last row of the list (To prevent it not adding the final year)\n",
    "                    counts.append(count) #Add the count of the current year\n",
    "\n",
    "        dictionary = dict(zip(years, counts)) #Make a dictionary with both the years and counts for the current country\n",
    "        everything[country] = dictionary #Set the dictionary as the value for the country\n",
    "    \n",
    "plt.figure(figsize=(20,5)) #Change the size of the chart to fit everything\n",
    "\n",
    "#Change this to any country in Africa to see the results for each year    \n",
    "country = \"Ukraine\"\n",
    "\n",
    "#Convert both to a list since dictionaries don't work with plots\n",
    "plt.plot((list(everything[country].keys())), (list(everything[country].values()))) \n",
    "\n",
    "#Set the labels\n",
    "plt.ylabel('Conflict count')\n",
    "plt.title('Conflict for country ['+ country +'] for all years')\n",
    "-->\n",
    "\n",
    "You will notice that there's not much data and so the date range will be considerably lower."
   ]
  },
  {
   "cell_type": "markdown",
   "metadata": {},
   "source": [
    "Next up is to find the typical lengths of conflicts in a country or as a continent as a whole, the way we must do this is by getting the average length for those conflicts for either a country or a continent.\n",
    "\n",
    "This means that it will be similar to the task above but instead of getting the amount of conflicts, we get their lengths and average them for each country before appending them; to make things easier, that cell will be used as a basis."
   ]
  },
  {
   "cell_type": "code",
   "execution_count": 28,
   "metadata": {},
   "outputs": [],
   "source": [
    "import matplotlib.pyplot as plt\n",
    "\n",
    "def conflictLengths():\n",
    "    lengths = [] #To store the conflict count\n",
    "    countries = [] #To store all countries\n",
    "\n",
    "    count = 0 #Initial counter\n",
    "\n",
    "    everything = {} #To store everything together\n",
    "\n",
    "    for i, row in enumerate(csvList): #Enumerate through the list (Enables you to use index easily)\n",
    "        country = row[16] #Store the country\n",
    "\n",
    "        if ((country in countries) == False): #If the country isn't previously entered\n",
    "            countries.append(country) #Add the country to the list\n",
    "            lengths = [] #Empty the counts to reset to not clash with previous country\n",
    "\n",
    "        else: #If the country is entered (To allow multiple conflicts to be added)\n",
    "            if (count > 0): #If the count is above 0 (Done to prevent adding a 0 for the first element)\n",
    "                counts.append(count) #Add the current count (This is attached to the previous year)\n",
    "            lengths = 0 #Reset the count to use for the next or the currently added year\n",
    "            lengths += 1 #Increment the count (First row of the year)\n",
    "\n",
    "        dictionary = dict(zip(years, counts)) #Make a dictionary with both the years and counts for the current country\n",
    "        everything[country] = dictionary #Set the dictionary as the value for the country"
   ]
  },
  {
   "cell_type": "markdown",
   "metadata": {},
   "source": [
    "Notice how much simpler it is this time, because we do not require to use years anymore and thus it makes it shorter as well as easier to manage."
   ]
  },
  {
   "cell_type": "markdown",
   "metadata": {},
   "source": [
    "Finally, we will analyse correlations in the weather data, this will be done by using the mean of the temperature and the rainfall."
   ]
  }
 ],
 "metadata": {
  "kernelspec": {
   "display_name": "Python 3",
   "language": "python",
   "name": "python3"
  },
  "language_info": {
   "codemirror_mode": {
    "name": "ipython",
    "version": 3
   },
   "file_extension": ".py",
   "mimetype": "text/x-python",
   "name": "python",
   "nbconvert_exporter": "python",
   "pygments_lexer": "ipython3",
   "version": "3.7.3"
  }
 },
 "nbformat": 4,
 "nbformat_minor": 2
}
