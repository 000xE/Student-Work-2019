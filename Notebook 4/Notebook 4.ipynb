{
 "cells": [
  {
   "cell_type": "markdown",
   "metadata": {},
   "source": [
    "<img src=\"/static/base/images/logo.png?v=641991992878ee24c6f3826e81054a0f\" alt=\"Jupyter Notebook\">\n",
    "<h1 style=\"text-align: center\">Notebook 4 - Analysis of ACLED data set</h1>"
   ]
  },
  {
   "cell_type": "markdown",
   "metadata": {},
   "source": [
    "<h3>Prerequisites</h3>\n",
    "\n",
    "- You must have Python 3 installed on your system (<a href=\"https://www.python.org/downloads/\">Download</a>)\n",
    "- You must have R installed on your system (<a href=\"https://cran.r-project.org/bin/\">Download: Follow \"base\" links</a>)\n",
    "- You must have Jupyter installed on your system (<a href=\"https://jupyter.org/install\">Download</a>)\n",
    "- Some knowledge of Python and R may be required"
   ]
  },
  {
   "cell_type": "markdown",
   "metadata": {},
   "source": [
    "<h3>Explanation of Notebook 4</h3>\n",
    "\n",
    "In this notebook, you wil carry out a number of analysis on a ACLED (Armed Conflict Location and Event Data Project) data set, which can be done by either Python or R, or both.\n",
    "\n",
    "You will have the data of four continents; Africa, Asia, Europe, and Middle East.<br>\n",
    "The data will be in csv format.\n",
    "\n",
    "The analysis must carry out with charts showing the following:\n",
    "+ Conflicts Conflicts per country over time\n",
    "+ Typical lengths of conflict in a country or across the continent\n",
    "+ Correlations weather data (mean temperature and rainfall)\n",
    "\n",
    "You may analyse all four continents, starting from Africa; once one of the continents is analysed, the rest will be very similar.\n",
    "\n"
   ]
  },
  {
   "cell_type": "markdown",
   "metadata": {},
   "source": [
    "<h3>Python Method</h3>\n",
    "\n",
    "First, the Python method will be used to analyse the countries in Africa.<br>\n",
    "This will give you an overview of how the analysis will be done as the syntax is easier."
   ]
  }
 ],
 "metadata": {
  "kernelspec": {
   "display_name": "R",
   "language": "R",
   "name": "ir"
  },
  "language_info": {
   "codemirror_mode": "r",
   "file_extension": ".r",
   "mimetype": "text/x-r-source",
   "name": "R",
   "pygments_lexer": "r",
   "version": "3.6.0"
  }
 },
 "nbformat": 4,
 "nbformat_minor": 2
}
