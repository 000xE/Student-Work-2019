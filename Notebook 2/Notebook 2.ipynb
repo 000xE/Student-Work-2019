{
 "cells": [
  {
   "cell_type": "markdown",
   "metadata": {},
   "source": [
    "<img src=\"/static/base/images/logo.png?v=641991992878ee24c6f3826e81054a0f\" alt=\"Jupyter Notebook\">\n",
    "<h1 style=\"text-align: center\">Notebook 2 - Agent Based Modelling</h1>"
   ]
  },
  {
   "cell_type": "markdown",
   "metadata": {},
   "source": [
    "<h3>Prerequisites</h3>\n",
    "\n",
    "- You must have Python 3 installed on your system (<a href=\"https://www.python.org/downloads/\">Download</a>)\n",
    "- You must have R installed on your system (<a href=\"https://cran.r-project.org/bin/\">Download: Follow \"base\" links</a>)\n",
    "- You must have Jupyter installed on your system (<a href=\"https://jupyter.org/install\">Download</a>)\n",
    "- Some knowledge of Python and R may be required"
   ]
  },
  {
   "cell_type": "markdown",
   "metadata": {},
   "source": [
    "<h3>Explanation of Notebook 2</h3>\n",
    "\n",
    "This notebook will solely focus on Python, and we'll be exploring data visualisation further as we begin to use graphs.<br>\n",
    "It is important that you follow each cell to understand everything as otherwise it'd be difficult to keep up.\n",
    "\n",
    "Unlike notebook 1, this notebook will feature a simulation of cyber attackers and victims using agent based modelling; the goal of this is to show the likeliness of attackers being successful against their victims."
   ]
  },
  {
   "cell_type": "markdown",
   "metadata": {},
   "source": [
    "<h3>Summary</h3>\n",
    "\n",
    "What's meant by agent based modelling is that this will involve activities which we will create agents/users with randomised attributes, this is to test how the agents would interact based on their behaviour; in this case, it's the attackers and the recipients/victims and how the attackers would be successful or unsuccessful in an attack.\n",
    "\n"
   ]
  },
  {
   "cell_type": "markdown",
   "metadata": {},
   "source": [
    "<h3>What needs to be done</h3>\n",
    "\n",
    "+ There must be two types of agents; attackers and attacked.\n",
    "\n",
    "+ Each attacker must have a random level between 1 to 10 as their attribute.\n",
    "\n",
    "+ Each victim/attacked must have either high, medium, or low chance as their attribute.\n",
    "\n",
    "+ Higher the level of the attacker means higher the chance of the attacker being successful in their attack against their victim\n",
    "\n",
    "+ Level > 1 = Low chance, Level > 5 = Medium chance, Level > 9 = High chance, e.g If the attacker's level is 2 and the attacked's likelihood of success is low, then the attacker can compromise the attacked.\n",
    "\n",
    "+ The attackers shall find their victims at random so that it won't be a specific victim.\n"
   ]
  },
  {
   "cell_type": "markdown",
   "metadata": {},
   "source": [
    "<h3>Beginning the network of agents</h3>\n",
    "\n",
    "First, we must set the attributes; attackers have a level (1 to 10), the attacked have a chance (low/medium/high). <br>\n",
    "We must first create both of these in lists."
   ]
  },
  {
   "cell_type": "code",
   "execution_count": 4,
   "metadata": {},
   "outputs": [],
   "source": [
    "chances = ['low', 'medium', 'high']"
   ]
  },
  {
   "cell_type": "markdown",
   "metadata": {},
   "source": [
    "Now try do the same below but for the levels, call the variable 'levels', <br>\n",
    "__You must complete this step before moving to the next__"
   ]
  },
  {
   "cell_type": "code",
   "execution_count": 19,
   "metadata": {},
   "outputs": [],
   "source": [
    "levels = list(range(1, 11))"
   ]
  },
  {
   "cell_type": "markdown",
   "metadata": {},
   "source": [
    "<b>Double click for the solution</b>\n",
    "\n",
    "<!--\n",
    "levels = list(range(1, 11))\n",
    "-->"
   ]
  },
  {
   "cell_type": "code",
   "execution_count": null,
   "metadata": {},
   "outputs": [],
   "source": []
  }
 ],
 "metadata": {
  "kernelspec": {
   "display_name": "Python 3",
   "language": "python",
   "name": "python3"
  },
  "language_info": {
   "codemirror_mode": {
    "name": "ipython",
    "version": 3
   },
   "file_extension": ".py",
   "mimetype": "text/x-python",
   "name": "python",
   "nbconvert_exporter": "python",
   "pygments_lexer": "ipython3",
   "version": "3.7.3"
  }
 },
 "nbformat": 4,
 "nbformat_minor": 2
}
